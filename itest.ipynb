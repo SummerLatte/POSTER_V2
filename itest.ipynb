{
 "cells": [
  {
   "cell_type": "code",
   "execution_count": 3,
   "id": "initial_id",
   "metadata": {
    "collapsed": true,
    "ExecuteTime": {
     "end_time": "2024-12-16T14:02:38.883476500Z",
     "start_time": "2024-12-16T14:02:32.271993900Z"
    }
   },
   "outputs": [
    {
     "name": "stdout",
     "output_type": "stream",
     "text": [
      "Looking in indexes: https://pypi.tuna.tsinghua.edu.cn/simple\n",
      "Requirement already satisfied: torchsampler in c:\\users\\icylatte\\anaconda3\\envs\\py311\\lib\\site-packages (0.1.2)\n",
      "Requirement already satisfied: torch>=1.3 in c:\\users\\icylatte\\anaconda3\\envs\\py311\\lib\\site-packages (from torchsampler) (2.5.1)\n",
      "Requirement already satisfied: torchvision>=0.5 in c:\\users\\icylatte\\anaconda3\\envs\\py311\\lib\\site-packages (from torchsampler) (0.20.1)\n",
      "Requirement already satisfied: pandas in c:\\users\\icylatte\\anaconda3\\envs\\py311\\lib\\site-packages (from torchsampler) (2.2.3)\n",
      "Requirement already satisfied: filelock in c:\\users\\icylatte\\anaconda3\\envs\\py311\\lib\\site-packages (from torch>=1.3->torchsampler) (3.13.1)\n",
      "Requirement already satisfied: typing-extensions>=4.8.0 in c:\\users\\icylatte\\anaconda3\\envs\\py311\\lib\\site-packages (from torch>=1.3->torchsampler) (4.11.0)\n",
      "Requirement already satisfied: sympy==1.13.1 in c:\\users\\icylatte\\anaconda3\\envs\\py311\\lib\\site-packages (from torch>=1.3->torchsampler) (1.13.1)\n",
      "Requirement already satisfied: networkx in c:\\users\\icylatte\\anaconda3\\envs\\py311\\lib\\site-packages (from torch>=1.3->torchsampler) (3.2.1)\n",
      "Requirement already satisfied: jinja2 in c:\\users\\icylatte\\anaconda3\\envs\\py311\\lib\\site-packages (from torch>=1.3->torchsampler) (3.1.4)\n",
      "Requirement already satisfied: fsspec in c:\\users\\icylatte\\anaconda3\\envs\\py311\\lib\\site-packages (from torch>=1.3->torchsampler) (2024.10.0)\n",
      "Requirement already satisfied: mpmath<1.4,>=1.1.0 in c:\\users\\icylatte\\anaconda3\\envs\\py311\\lib\\site-packages (from sympy==1.13.1->torch>=1.3->torchsampler) (1.3.0)\n",
      "Requirement already satisfied: numpy in c:\\users\\icylatte\\anaconda3\\envs\\py311\\lib\\site-packages (from torchvision>=0.5->torchsampler) (2.0.1)\n",
      "Requirement already satisfied: pillow!=8.3.*,>=5.3.0 in c:\\users\\icylatte\\anaconda3\\envs\\py311\\lib\\site-packages (from torchvision>=0.5->torchsampler) (11.0.0)\n",
      "Requirement already satisfied: python-dateutil>=2.8.2 in c:\\users\\icylatte\\anaconda3\\envs\\py311\\lib\\site-packages (from pandas->torchsampler) (2.9.0.post0)\n",
      "Requirement already satisfied: pytz>=2020.1 in c:\\users\\icylatte\\anaconda3\\envs\\py311\\lib\\site-packages (from pandas->torchsampler) (2024.1)\n",
      "Requirement already satisfied: tzdata>=2022.7 in c:\\users\\icylatte\\anaconda3\\envs\\py311\\lib\\site-packages (from pandas->torchsampler) (2024.2)\n",
      "Requirement already satisfied: six>=1.5 in c:\\users\\icylatte\\anaconda3\\envs\\py311\\lib\\site-packages (from python-dateutil>=2.8.2->pandas->torchsampler) (1.16.0)\n",
      "Requirement already satisfied: MarkupSafe>=2.0 in c:\\users\\icylatte\\anaconda3\\envs\\py311\\lib\\site-packages (from jinja2->torch>=1.3->torchsampler) (2.1.3)\n",
      "Looking in indexes: https://pypi.tuna.tsinghua.edu.cn/simple\n",
      "Requirement already satisfied: timm in c:\\users\\icylatte\\anaconda3\\envs\\py311\\lib\\site-packages (1.0.12)\n",
      "Requirement already satisfied: torch in c:\\users\\icylatte\\anaconda3\\envs\\py311\\lib\\site-packages (from timm) (2.5.1)\n",
      "Requirement already satisfied: torchvision in c:\\users\\icylatte\\anaconda3\\envs\\py311\\lib\\site-packages (from timm) (0.20.1)\n",
      "Requirement already satisfied: pyyaml in c:\\users\\icylatte\\anaconda3\\envs\\py311\\lib\\site-packages (from timm) (6.0.2)\n",
      "Requirement already satisfied: huggingface_hub in c:\\users\\icylatte\\anaconda3\\envs\\py311\\lib\\site-packages (from timm) (0.27.0)\n",
      "Requirement already satisfied: safetensors in c:\\users\\icylatte\\anaconda3\\envs\\py311\\lib\\site-packages (from timm) (0.4.5)\n",
      "Requirement already satisfied: filelock in c:\\users\\icylatte\\anaconda3\\envs\\py311\\lib\\site-packages (from huggingface_hub->timm) (3.13.1)\n",
      "Requirement already satisfied: fsspec>=2023.5.0 in c:\\users\\icylatte\\anaconda3\\envs\\py311\\lib\\site-packages (from huggingface_hub->timm) (2024.10.0)\n",
      "Requirement already satisfied: packaging>=20.9 in c:\\users\\icylatte\\anaconda3\\envs\\py311\\lib\\site-packages (from huggingface_hub->timm) (24.1)\n",
      "Requirement already satisfied: requests in c:\\users\\icylatte\\anaconda3\\envs\\py311\\lib\\site-packages (from huggingface_hub->timm) (2.32.3)\n",
      "Requirement already satisfied: tqdm>=4.42.1 in c:\\users\\icylatte\\anaconda3\\envs\\py311\\lib\\site-packages (from huggingface_hub->timm) (4.67.1)\n",
      "Requirement already satisfied: typing-extensions>=3.7.4.3 in c:\\users\\icylatte\\anaconda3\\envs\\py311\\lib\\site-packages (from huggingface_hub->timm) (4.11.0)\n",
      "Requirement already satisfied: sympy==1.13.1 in c:\\users\\icylatte\\anaconda3\\envs\\py311\\lib\\site-packages (from torch->timm) (1.13.1)\n",
      "Requirement already satisfied: networkx in c:\\users\\icylatte\\anaconda3\\envs\\py311\\lib\\site-packages (from torch->timm) (3.2.1)\n",
      "Requirement already satisfied: jinja2 in c:\\users\\icylatte\\anaconda3\\envs\\py311\\lib\\site-packages (from torch->timm) (3.1.4)\n",
      "Requirement already satisfied: mpmath<1.4,>=1.1.0 in c:\\users\\icylatte\\anaconda3\\envs\\py311\\lib\\site-packages (from sympy==1.13.1->torch->timm) (1.3.0)\n",
      "Requirement already satisfied: numpy in c:\\users\\icylatte\\anaconda3\\envs\\py311\\lib\\site-packages (from torchvision->timm) (2.0.1)\n",
      "Requirement already satisfied: pillow!=8.3.*,>=5.3.0 in c:\\users\\icylatte\\anaconda3\\envs\\py311\\lib\\site-packages (from torchvision->timm) (11.0.0)\n",
      "Requirement already satisfied: colorama in c:\\users\\icylatte\\anaconda3\\envs\\py311\\lib\\site-packages (from tqdm>=4.42.1->huggingface_hub->timm) (0.4.6)\n",
      "Requirement already satisfied: MarkupSafe>=2.0 in c:\\users\\icylatte\\anaconda3\\envs\\py311\\lib\\site-packages (from jinja2->torch->timm) (2.1.3)\n",
      "Requirement already satisfied: charset-normalizer<4,>=2 in c:\\users\\icylatte\\anaconda3\\envs\\py311\\lib\\site-packages (from requests->huggingface_hub->timm) (3.3.2)\n",
      "Requirement already satisfied: idna<4,>=2.5 in c:\\users\\icylatte\\anaconda3\\envs\\py311\\lib\\site-packages (from requests->huggingface_hub->timm) (3.7)\n",
      "Requirement already satisfied: urllib3<3,>=1.21.1 in c:\\users\\icylatte\\anaconda3\\envs\\py311\\lib\\site-packages (from requests->huggingface_hub->timm) (2.2.3)\n",
      "Requirement already satisfied: certifi>=2017.4.17 in c:\\users\\icylatte\\anaconda3\\envs\\py311\\lib\\site-packages (from requests->huggingface_hub->timm) (2024.8.30)\n",
      "Looking in indexes: https://pypi.tuna.tsinghua.edu.cn/simple\n",
      "Collecting thop\n",
      "  Using cached https://pypi.tuna.tsinghua.edu.cn/packages/bb/0f/72beeab4ff5221dc47127c80f8834b4bcd0cb36f6ba91c0b1d04a1233403/thop-0.1.1.post2209072238-py3-none-any.whl (15 kB)\n",
      "Requirement already satisfied: torch in c:\\users\\icylatte\\anaconda3\\envs\\py311\\lib\\site-packages (from thop) (2.5.1)\n",
      "Requirement already satisfied: filelock in c:\\users\\icylatte\\anaconda3\\envs\\py311\\lib\\site-packages (from torch->thop) (3.13.1)\n",
      "Requirement already satisfied: typing-extensions>=4.8.0 in c:\\users\\icylatte\\anaconda3\\envs\\py311\\lib\\site-packages (from torch->thop) (4.11.0)\n",
      "Requirement already satisfied: sympy==1.13.1 in c:\\users\\icylatte\\anaconda3\\envs\\py311\\lib\\site-packages (from torch->thop) (1.13.1)\n",
      "Requirement already satisfied: networkx in c:\\users\\icylatte\\anaconda3\\envs\\py311\\lib\\site-packages (from torch->thop) (3.2.1)\n",
      "Requirement already satisfied: jinja2 in c:\\users\\icylatte\\anaconda3\\envs\\py311\\lib\\site-packages (from torch->thop) (3.1.4)\n",
      "Requirement already satisfied: fsspec in c:\\users\\icylatte\\anaconda3\\envs\\py311\\lib\\site-packages (from torch->thop) (2024.10.0)\n",
      "Requirement already satisfied: mpmath<1.4,>=1.1.0 in c:\\users\\icylatte\\anaconda3\\envs\\py311\\lib\\site-packages (from sympy==1.13.1->torch->thop) (1.3.0)\n",
      "Requirement already satisfied: MarkupSafe>=2.0 in c:\\users\\icylatte\\anaconda3\\envs\\py311\\lib\\site-packages (from jinja2->torch->thop) (2.1.3)\n",
      "Installing collected packages: thop\n",
      "Successfully installed thop-0.1.1.post2209072238\n"
     ]
    }
   ],
   "source": [
    "! pip install torchsampler\n",
    "! pip install timm\n",
    "! pip install thop"
   ]
  },
  {
   "cell_type": "code",
   "outputs": [],
   "source": [
    "import os\n",
    "import shutil\n",
    "\n",
    "def move_files_by_category(file_info_path, target_folder):\n",
    "    # 读取文件信息\n",
    "    with open(file_info_path, 'r') as file:\n",
    "        lines = file.readlines()\n",
    "\n",
    "    # 遍历每一行，解析文件名和类别\n",
    "    for line in lines:\n",
    "        line = line.strip()\n",
    "        if not line:\n",
    "            continue\n",
    "            \n",
    "\n",
    "        # 分割文件名和类别\n",
    "        filename, category = line.split()\n",
    "        category = str(int(category)-1)\n",
    "        \n",
    "        if filename.startswith(\"train\"):\n",
    "            continue\n",
    "\n",
    "        # 提取文件的前缀（去掉.jpg）\n",
    "        file_prefix = filename.rsplit('.jpg', 1)[0]\n",
    "        file_prefix = file_prefix + \"_aligned.jpg\"\n",
    "  \n",
    "        source_path = os.path.join(target_folder, file_prefix)\n",
    "        \n",
    "        # 确保类别目录存在\n",
    "        category_dir = os.path.join(target_folder, category)\n",
    "        os.makedirs(category_dir, exist_ok=True)\n",
    "        \n",
    "        # 移动文件到类别目录\n",
    "        destination_path = os.path.join(category_dir, file_prefix)\n",
    "        shutil.move(source_path, destination_path)\n",
    "        print(f\"Moved {source_path} to {destination_path}\")\n",
    "\n",
    "# 使用示例\n",
    "file_info_path = 'data/raf-db/list_patition_label.txt'  # 文件名和类别信息文件路径\n",
    "target_folder = 'data/raf-db/valid'   # 目标文件夹路径\n",
    "\n",
    "move_files_by_category(file_info_path, target_folder)\n"
   ],
   "metadata": {
    "collapsed": false
   },
   "id": "5c2c9d5c50a08da2",
   "execution_count": null
  },
  {
   "cell_type": "code",
   "outputs": [
    {
     "name": "stdout",
     "output_type": "stream",
     "text": [
      "Counter({'4': 4772, '7': 2524, '5': 1982, '1': 1290, '3': 717, '6': 705, '2': 281})\n",
      "Counter({'4': 1185, '7': 680, '5': 478, '1': 329, '6': 162, '3': 160, '2': 74})\n"
     ]
    }
   ],
   "source": [
    "from collections import Counter\n",
    "\n",
    "file_info_path = 'data/raf-db/list_patition_label.txt'\n",
    "listTrain = []\n",
    "listValid = []\n",
    "with open(file_info_path, 'r') as file:\n",
    "    lines = file.readlines()\n",
    "\n",
    "    # 遍历每一行，解析文件名和类别\n",
    "    for line in lines:\n",
    "        line = line.strip()\n",
    "        if not line:\n",
    "            continue\n",
    "            \n",
    "\n",
    "        # 分割文件名和类别\n",
    "        filename, category = line.split()\n",
    "        \n",
    "        if filename.startswith(\"train\"):\n",
    "            listTrain.append(category)\n",
    "        else:\n",
    "            listValid.append(category)\n",
    "\n",
    "counterTrain = Counter(listTrain)\n",
    "counterValid = Counter(listValid)\n",
    "print(counterTrain)\n",
    "print(counterValid)"
   ],
   "metadata": {
    "collapsed": false,
    "ExecuteTime": {
     "end_time": "2024-12-16T07:04:58.022413400Z",
     "start_time": "2024-12-16T07:04:58.009413700Z"
    }
   },
   "id": "1c53e4034a6477ff",
   "execution_count": 2
  },
  {
   "cell_type": "code",
   "outputs": [],
   "source": [],
   "metadata": {
    "collapsed": false
   },
   "id": "7d1cfd7cdc229ca4"
  }
 ],
 "metadata": {
  "kernelspec": {
   "display_name": "Python 3",
   "language": "python",
   "name": "python3"
  },
  "language_info": {
   "codemirror_mode": {
    "name": "ipython",
    "version": 2
   },
   "file_extension": ".py",
   "mimetype": "text/x-python",
   "name": "python",
   "nbconvert_exporter": "python",
   "pygments_lexer": "ipython2",
   "version": "2.7.6"
  }
 },
 "nbformat": 4,
 "nbformat_minor": 5
}
